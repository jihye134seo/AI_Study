{
  "cells": [
    {
      "cell_type": "markdown",
      "metadata": {
        "id": "view-in-github",
        "colab_type": "text"
      },
      "source": [
        "<a href=\"https://colab.research.google.com/github/jihye134seo/AI_Study/blob/main/finalfinalfinalfinalfinal.ipynb\" target=\"_parent\"><img src=\"https://colab.research.google.com/assets/colab-badge.svg\" alt=\"Open In Colab\"/></a>"
      ]
    },
    {
      "cell_type": "code",
      "execution_count": null,
      "metadata": {
        "id": "JaoK-UUYZvL4"
      },
      "outputs": [],
      "source": [
        "import os\n",
        "os.environ['CUDA_LAUNCH_BLOCKING'] = \"1\"\n",
        "os.environ[\"CUDA_VISIBLE_DEVICES\"] = \"0\""
      ]
    },
    {
      "cell_type": "code",
      "execution_count": null,
      "metadata": {
        "colab": {
          "base_uri": "https://localhost:8080/"
        },
        "id": "tnA_AHCwF2Cb",
        "outputId": "1d346c1b-3b85-4c0e-a493-202ef7200bdc"
      },
      "outputs": [
        {
          "name": "stdout",
          "output_type": "stream",
          "text": [
            "Mounted at /content/drive\n"
          ]
        }
      ],
      "source": [
        "from google.colab import drive\n",
        "drive.mount('/content/drive')"
      ]
    },
    {
      "cell_type": "code",
      "execution_count": null,
      "metadata": {
        "id": "6F1qPxMdTpyY"
      },
      "outputs": [],
      "source": [
        "#model\n",
        "import torch\n",
        "import torch.nn as nn\n",
        "import torch.nn.functional as F\n",
        "from torchsummary import summary\n",
        "from torch import optim\n",
        "from torch.optim.lr_scheduler import StepLR\n",
        "\n",
        "# dataset and transformation\n",
        "from torchvision import datasets\n",
        "import torchvision.transforms as transforms\n",
        "from torch.utils.data import DataLoader\n",
        "import os\n",
        "\n",
        "from torchvision import utils\n",
        "import matplotlib.pyplot as plt\n",
        "%matplotlib inline\n",
        "\n",
        "import numpy as np\n",
        "from torchsummary import summary\n",
        "import time\n",
        "import copy"
      ]
    },
    {
      "cell_type": "code",
      "execution_count": null,
      "metadata": {
        "id": "2pJ_35kEVR0U"
      },
      "outputs": [],
      "source": [
        "train_transformation = transforms.Compose([\n",
        "                        transforms.Resize(256),\n",
        "                        transforms.CenterCrop(224),\n",
        "                        transforms.ToTensor(),\n",
        "                        transforms.Normalize([0.485, 0.456, 0.406],[0.229, 0.224, 0.225])\n",
        "])\n",
        "\n",
        "val_transformation = transforms.Compose([\n",
        "                        transforms.Resize(256),\n",
        "                        transforms.CenterCrop(224),\n",
        "                        transforms.ToTensor(),\n",
        "                        transforms.Normalize([0.485, 0.456, 0.406],[0.229, 0.224, 0.225])\n",
        "])"
      ]
    },
    {
      "cell_type": "code",
      "execution_count": null,
      "metadata": {
        "id": "s9p4DfCHVmbp"
      },
      "outputs": [],
      "source": [
        "train_ds = datasets.ImageFolder(root = '/content/drive/MyDrive/final_train_val/train',transform = train_transformation)\n",
        "val_ds = datasets.ImageFolder(root = '/content/drive/MyDrive/final_train_val/val', transform = val_transformation)"
      ]
    },
    {
      "cell_type": "code",
      "execution_count": null,
      "metadata": {
        "id": "sM8cB2_6c3aR"
      },
      "outputs": [],
      "source": [
        "train_dl = DataLoader(train_ds, batch_size = 32, shuffle = True)\n",
        "val_dl = DataLoader(val_ds, batch_size = 32, shuffle = True)"
      ]
    },
    {
      "cell_type": "code",
      "execution_count": null,
      "metadata": {
        "id": "ptZ-Ve2RfiJ9"
      },
      "outputs": [],
      "source": [
        "class BasicBlock(nn.Module):\n",
        "  expansion = 1\n",
        "  def __init__(self, in_channels, out_channels, stride = 1):\n",
        "    super().__init__()\n",
        "\n",
        "    self.residual_function = nn.Sequential(\n",
        "        nn.Conv2d(in_channels, out_channels, kernel_size = 3, stride = stride, padding = 1, bias = False),\n",
        "        nn.BatchNorm2d(out_channels),\n",
        "        nn.LeakyReLU(),\n",
        "        nn.Conv2d(out_channels, out_channels * BasicBlock.expansion, kernel_size = 3, stride = 1, padding = 1, bias = False),\n",
        "        nn.BatchNorm2d(out_channels * BasicBlock.expansion),\n",
        "    )\n",
        "    self.shortcut = nn.Sequential()\n",
        "    self.relu = nn.LeakyReLU()\n",
        "\n",
        "    if stride != 1 or in_channels != BasicBlock.expansion * out_channels:\n",
        "      self.shortcut = nn.Sequential(\n",
        "          nn.Conv2d(in_channels, out_channels*BasicBlock.expansion, kernel_size = 1, stride = stride, bias = False),\n",
        "          nn.BatchNorm2d(out_channels*BasicBlock.expansion)\n",
        "      )\n",
        "  def forward(self, x):\n",
        "    x = self.residual_function(x) + self.shortcut(x)\n",
        "    x = self.relu(x)\n",
        "    return x"
      ]
    },
    {
      "cell_type": "code",
      "execution_count": null,
      "metadata": {
        "id": "n3BkMTNZhPeg"
      },
      "outputs": [],
      "source": [
        "class ResNet(nn.Module):\n",
        "  def __init__(self, block, num_block, num_classes = 20, init_weights = True):\n",
        "    super().__init__()\n",
        "\n",
        "    self.in_channels = 64\n",
        "    self.conv1 = nn.Sequential(\n",
        "        nn.Conv2d(3, 64, kernel_size = 7, stride = 2, padding = 3, bias = False),\n",
        "        nn.BatchNorm2d(64),\n",
        "        nn.LeakyReLU(),\n",
        "        nn.MaxPool2d(kernel_size=3, stride=2, padding = 1)\n",
        "    )\n",
        "    self.conv2_x = self._make_layer(block, 64, num_block[0], 1)\n",
        "    self.conv3_x = self._make_layer(block, 128, num_block[1], 2)\n",
        "    self.conv4_x = self._make_layer(block, 256, num_block[2], 2)\n",
        "    self.conv5_x = self._make_layer(block, 512, num_block[3], 2)\n",
        "\n",
        "    self.avg_pool = nn.AdaptiveAvgPool2d((1,1))\n",
        "    self.fc = nn.Linear(512 * block.expansion, num_classes)\n",
        "\n",
        "    # weights inittialization\n",
        "    if init_weights:\n",
        "      self._initialize_weights()\n",
        "\n",
        "  def _make_layer(self, block, out_channels, num_blocks, stride):\n",
        "    strides = [stride] + [1] * (num_blocks - 1)\n",
        "    layers = []\n",
        "    for stride in strides :\n",
        "      layers.append(block(self.in_channels, out_channels, stride))\n",
        "      self.in_channels = out_channels * block.expansion\n",
        "    \n",
        "    return nn.Sequential(*layers)\n",
        "\n",
        "  def forward(self,x):\n",
        "        output = self.conv1(x)\n",
        "        output = self.conv2_x(output)\n",
        "        x = self.conv3_x(output)\n",
        "        x = self.conv4_x(x)\n",
        "        x = self.conv5_x(x)\n",
        "        x = self.avg_pool(x)\n",
        "        x = x.view(x.size(0), -1)\n",
        "        x = self.fc(x)\n",
        "        return x\n",
        "\n",
        "    # define weight initialization function\n",
        "  def _initialize_weights(self):\n",
        "        for m in self.modules():\n",
        "            if isinstance(m, nn.Conv2d):\n",
        "                nn.init.kaiming_normal_(m.weight, mode='fan_out', nonlinearity='relu')\n",
        "                if m.bias is not None:\n",
        "                    nn.init.constant_(m.bias, 0)\n",
        "            elif isinstance(m, nn.BatchNorm2d):\n",
        "                nn.init.constant_(m.weight, 1)\n",
        "                nn.init.constant_(m.bias, 0)\n",
        "            elif isinstance(m, nn.Linear):\n",
        "                nn.init.normal_(m.weight, 0, 0.01)\n",
        "                nn.init.constant_(m.bias, 0)\n",
        "def resnet18():\n",
        "    return ResNet(BasicBlock, [2,2,2,2])\n"
      ]
    },
    {
      "cell_type": "code",
      "execution_count": null,
      "metadata": {
        "colab": {
          "base_uri": "https://localhost:8080/"
        },
        "id": "j474_N6mkUle",
        "outputId": "f44e9e2c-a877-4447-f35b-0772854d689e"
      },
      "outputs": [
        {
          "name": "stdout",
          "output_type": "stream",
          "text": [
            "torch.Size([3, 20])\n"
          ]
        }
      ],
      "source": [
        "device = torch.device('cuda' if torch.cuda.is_available() else 'cpu')\n",
        "model = resnet18().to(device)\n",
        "x = torch.randn(3, 3, 224, 224).to(device)\n",
        "output = model(x)\n",
        "print(output.size())"
      ]
    },
    {
      "cell_type": "code",
      "execution_count": null,
      "metadata": {
        "colab": {
          "base_uri": "https://localhost:8080/"
        },
        "id": "3u6Pgo8jm2XM",
        "outputId": "ee387240-c531-4ff4-e0b2-481c0b203110"
      },
      "outputs": [
        {
          "name": "stdout",
          "output_type": "stream",
          "text": [
            "----------------------------------------------------------------\n",
            "        Layer (type)               Output Shape         Param #\n",
            "================================================================\n",
            "            Conv2d-1         [-1, 64, 112, 112]           9,408\n",
            "       BatchNorm2d-2         [-1, 64, 112, 112]             128\n",
            "         LeakyReLU-3         [-1, 64, 112, 112]               0\n",
            "         MaxPool2d-4           [-1, 64, 56, 56]               0\n",
            "            Conv2d-5           [-1, 64, 56, 56]          36,864\n",
            "       BatchNorm2d-6           [-1, 64, 56, 56]             128\n",
            "         LeakyReLU-7           [-1, 64, 56, 56]               0\n",
            "            Conv2d-8           [-1, 64, 56, 56]          36,864\n",
            "       BatchNorm2d-9           [-1, 64, 56, 56]             128\n",
            "        LeakyReLU-10           [-1, 64, 56, 56]               0\n",
            "       BasicBlock-11           [-1, 64, 56, 56]               0\n",
            "           Conv2d-12           [-1, 64, 56, 56]          36,864\n",
            "      BatchNorm2d-13           [-1, 64, 56, 56]             128\n",
            "        LeakyReLU-14           [-1, 64, 56, 56]               0\n",
            "           Conv2d-15           [-1, 64, 56, 56]          36,864\n",
            "      BatchNorm2d-16           [-1, 64, 56, 56]             128\n",
            "        LeakyReLU-17           [-1, 64, 56, 56]               0\n",
            "       BasicBlock-18           [-1, 64, 56, 56]               0\n",
            "           Conv2d-19          [-1, 128, 28, 28]          73,728\n",
            "      BatchNorm2d-20          [-1, 128, 28, 28]             256\n",
            "        LeakyReLU-21          [-1, 128, 28, 28]               0\n",
            "           Conv2d-22          [-1, 128, 28, 28]         147,456\n",
            "      BatchNorm2d-23          [-1, 128, 28, 28]             256\n",
            "           Conv2d-24          [-1, 128, 28, 28]           8,192\n",
            "      BatchNorm2d-25          [-1, 128, 28, 28]             256\n",
            "        LeakyReLU-26          [-1, 128, 28, 28]               0\n",
            "       BasicBlock-27          [-1, 128, 28, 28]               0\n",
            "           Conv2d-28          [-1, 128, 28, 28]         147,456\n",
            "      BatchNorm2d-29          [-1, 128, 28, 28]             256\n",
            "        LeakyReLU-30          [-1, 128, 28, 28]               0\n",
            "           Conv2d-31          [-1, 128, 28, 28]         147,456\n",
            "      BatchNorm2d-32          [-1, 128, 28, 28]             256\n",
            "        LeakyReLU-33          [-1, 128, 28, 28]               0\n",
            "       BasicBlock-34          [-1, 128, 28, 28]               0\n",
            "           Conv2d-35          [-1, 256, 14, 14]         294,912\n",
            "      BatchNorm2d-36          [-1, 256, 14, 14]             512\n",
            "        LeakyReLU-37          [-1, 256, 14, 14]               0\n",
            "           Conv2d-38          [-1, 256, 14, 14]         589,824\n",
            "      BatchNorm2d-39          [-1, 256, 14, 14]             512\n",
            "           Conv2d-40          [-1, 256, 14, 14]          32,768\n",
            "      BatchNorm2d-41          [-1, 256, 14, 14]             512\n",
            "        LeakyReLU-42          [-1, 256, 14, 14]               0\n",
            "       BasicBlock-43          [-1, 256, 14, 14]               0\n",
            "           Conv2d-44          [-1, 256, 14, 14]         589,824\n",
            "      BatchNorm2d-45          [-1, 256, 14, 14]             512\n",
            "        LeakyReLU-46          [-1, 256, 14, 14]               0\n",
            "           Conv2d-47          [-1, 256, 14, 14]         589,824\n",
            "      BatchNorm2d-48          [-1, 256, 14, 14]             512\n",
            "        LeakyReLU-49          [-1, 256, 14, 14]               0\n",
            "       BasicBlock-50          [-1, 256, 14, 14]               0\n",
            "           Conv2d-51            [-1, 512, 7, 7]       1,179,648\n",
            "      BatchNorm2d-52            [-1, 512, 7, 7]           1,024\n",
            "        LeakyReLU-53            [-1, 512, 7, 7]               0\n",
            "           Conv2d-54            [-1, 512, 7, 7]       2,359,296\n",
            "      BatchNorm2d-55            [-1, 512, 7, 7]           1,024\n",
            "           Conv2d-56            [-1, 512, 7, 7]         131,072\n",
            "      BatchNorm2d-57            [-1, 512, 7, 7]           1,024\n",
            "        LeakyReLU-58            [-1, 512, 7, 7]               0\n",
            "       BasicBlock-59            [-1, 512, 7, 7]               0\n",
            "           Conv2d-60            [-1, 512, 7, 7]       2,359,296\n",
            "      BatchNorm2d-61            [-1, 512, 7, 7]           1,024\n",
            "        LeakyReLU-62            [-1, 512, 7, 7]               0\n",
            "           Conv2d-63            [-1, 512, 7, 7]       2,359,296\n",
            "      BatchNorm2d-64            [-1, 512, 7, 7]           1,024\n",
            "        LeakyReLU-65            [-1, 512, 7, 7]               0\n",
            "       BasicBlock-66            [-1, 512, 7, 7]               0\n",
            "AdaptiveAvgPool2d-67            [-1, 512, 1, 1]               0\n",
            "           Linear-68                   [-1, 20]          10,260\n",
            "================================================================\n",
            "Total params: 11,186,772\n",
            "Trainable params: 11,186,772\n",
            "Non-trainable params: 0\n",
            "----------------------------------------------------------------\n",
            "Input size (MB): 0.57\n",
            "Forward/backward pass size (MB): 62.79\n",
            "Params size (MB): 42.67\n",
            "Estimated Total Size (MB): 106.03\n",
            "----------------------------------------------------------------\n"
          ]
        }
      ],
      "source": [
        "summary(model, (3, 224, 224), device = device.type)"
      ]
    },
    {
      "cell_type": "code",
      "execution_count": null,
      "metadata": {
        "id": "yXeRqZXlnBsP"
      },
      "outputs": [],
      "source": [
        "loss_func = nn.CrossEntropyLoss(reduction = 'sum')\n",
        "opt = optim.Adam(model.parameters(), lr = 0.001)\n",
        "\n",
        "from torch.optim.lr_scheduler import ReduceLROnPlateau\n",
        "lr_scheduler = ReduceLROnPlateau(opt, mode='min', factor = 0.1, patience=10)"
      ]
    },
    {
      "cell_type": "code",
      "execution_count": null,
      "metadata": {
        "id": "l6qh1qb7u-Zi"
      },
      "outputs": [],
      "source": [
        "def get_lr(opt):\n",
        "  for param_group in opt.param_groups:\n",
        "    return param_group['lr']"
      ]
    },
    {
      "cell_type": "code",
      "execution_count": null,
      "metadata": {
        "id": "7iqPVuM70-5k"
      },
      "outputs": [],
      "source": [
        "def metric_batch(output, target):\n",
        "  pred = output.argmax(1, keepdim=True)\n",
        "  corrects = pred.eq(target.view_as(pred)).sum().item()\n",
        "  return corrects\n",
        "\n",
        "def loss_batch(loss_func, output, target, opt=None):\n",
        "  loss = loss_func(output, target)\n",
        "  metric_b = metric_batch(output, target)\n",
        "\n",
        "  if opt is not None:\n",
        "    opt.zero_grad()\n",
        "    loss.backward()\n",
        "    opt.step()\n",
        "  \n",
        "  return loss.item(), metric_b"
      ]
    },
    {
      "cell_type": "code",
      "execution_count": null,
      "metadata": {
        "id": "4QunzxRv5Mk4"
      },
      "outputs": [],
      "source": [
        "def loss_epoch(model, loss_func, dataset_dl, sanity_check=False, opt=None):\n",
        "  running_loss = 0.0\n",
        "  running_metric = 0.0\n",
        "  len_data = len(dataset_dl.dataset)\n",
        "\n",
        "  for xb, yb in dataset_dl:\n",
        "    xb = xb.to(device)\n",
        "    yb = yb.to(device)\n",
        "    output = model(xb)\n",
        "\n",
        "    loss_b, metric_b = loss_batch(loss_func, output, yb, opt)\n",
        "\n",
        "    running_loss += loss_b\n",
        "\n",
        "    if metric_b is not None:\n",
        "      running_metric += metric_b\n",
        "\n",
        "    if sanity_check is True:\n",
        "      break\n",
        "    \n",
        "  loss = running_loss / len_data\n",
        "  metric = running_metric / len_data\n",
        "\n",
        "  return loss, metric"
      ]
    },
    {
      "cell_type": "code",
      "execution_count": null,
      "metadata": {
        "id": "sY9BxHZA6Oth"
      },
      "outputs": [],
      "source": [
        "def train_val(model, params):\n",
        "    num_epochs=params['num_epochs']\n",
        "    loss_func=params[\"loss_func\"]\n",
        "    opt=params[\"optimizer\"]\n",
        "    train_dl=params[\"train_dl\"]\n",
        "    val_dl=params[\"val_dl\"]\n",
        "    sanity_check=params[\"sanity_check\"]\n",
        "    lr_scheduler=params[\"lr_scheduler\"]\n",
        "    path2weights=params[\"path2weights\"]\n",
        "\n",
        "    loss_history = {'train': [], 'val': []}\n",
        "    metric_history = {'train': [], 'val': []}\n",
        "\n",
        "    best_loss = float('inf')\n",
        "\n",
        "    start_time = time.time()\n",
        "\n",
        "    for epoch in range(num_epochs):\n",
        "        current_lr = get_lr(opt)\n",
        "        print('Epoch {}/{}, current lr={}'.format(epoch, num_epochs-1, current_lr))\n",
        "\n",
        "        model.train()\n",
        "        train_loss, train_metric = loss_epoch(model, loss_func, train_dl, sanity_check, opt)\n",
        "        loss_history['train'].append(train_loss)\n",
        "        metric_history['train'].append(train_metric)\n",
        "\n",
        "        model.eval()\n",
        "        with torch.no_grad():\n",
        "            val_loss, val_metric = loss_epoch(model, loss_func, val_dl, sanity_check)\n",
        "        loss_history['val'].append(val_loss)\n",
        "        metric_history['val'].append(val_metric)\n",
        "\n",
        "        torch.save(model.state_dict(), path2weights)\n",
        "        print('save model.pth')\n",
        "\n",
        "        lr_scheduler.step(val_loss)\n",
        "\n",
        "        print('train loss: %.6f, val loss: %.6f, accuracy: %.2f, time: %.4f min' %(train_loss, val_loss, 100*val_metric, (time.time()-start_time)/60))\n",
        "        print('-'*10)\n",
        "\n",
        "    return model, loss_history, metric_history"
      ]
    },
    {
      "cell_type": "code",
      "execution_count": null,
      "metadata": {
        "id": "PDDOu-Xi6ZOw"
      },
      "outputs": [],
      "source": [
        "params_train = {\n",
        "    'num_epochs':20,\n",
        "    'optimizer':opt,\n",
        "    'loss_func':loss_func,\n",
        "    'train_dl':train_dl,\n",
        "    'val_dl':val_dl,\n",
        "    'sanity_check':False,\n",
        "    'lr_scheduler':lr_scheduler,\n",
        "    'path2weights':'/content/drive/MyDrive/models/models_001.pth',\n",
        "}\n",
        "\n",
        "# create the directory that stores weights.pt\n",
        "def createFolder(directory):\n",
        "    try:\n",
        "        if not os.path.exists(directory):\n",
        "            os.makedirs(directory)\n",
        "    except OSerror:\n",
        "        print('Error')\n",
        "createFolder('/content/drive/MyDrive/models')"
      ]
    },
    {
      "cell_type": "code",
      "execution_count": null,
      "metadata": {
        "colab": {
          "background_save": true,
          "base_uri": "https://localhost:8080/"
        },
        "id": "iAeatbks6fTL",
        "outputId": "5553a480-3cc9-48b5-8351-7bfe6655ac93"
      },
      "outputs": [
        {
          "name": "stdout",
          "output_type": "stream",
          "text": [
            "Epoch 0/19, current lr=0.001\n"
          ]
        },
        {
          "name": "stderr",
          "output_type": "stream",
          "text": [
            "/usr/local/lib/python3.7/dist-packages/PIL/Image.py:960: UserWarning: Palette images with Transparency expressed in bytes should be converted to RGBA images\n",
            "  \"Palette images with Transparency expressed in bytes should be \"\n"
          ]
        },
        {
          "name": "stdout",
          "output_type": "stream",
          "text": [
            "save model.pth\n",
            "train loss: 2.705352, val loss: 4.327742, accuracy: 10.51, time: 27.6870 min\n",
            "----------\n",
            "Epoch 1/19, current lr=0.001\n",
            "save model.pth\n",
            "train loss: 2.452964, val loss: 2.585716, accuracy: 22.99, time: 41.4024 min\n",
            "----------\n",
            "Epoch 2/19, current lr=0.001\n",
            "save model.pth\n",
            "train loss: 2.292002, val loss: 14.276025, accuracy: 7.33, time: 57.4376 min\n",
            "----------\n",
            "Epoch 3/19, current lr=0.001\n",
            "save model.pth\n",
            "train loss: 2.111380, val loss: 2.957200, accuracy: 22.30, time: 71.7990 min\n",
            "----------\n",
            "Epoch 4/19, current lr=0.001\n",
            "save model.pth\n",
            "train loss: 1.971507, val loss: 2.969793, accuracy: 23.49, time: 85.8678 min\n",
            "----------\n",
            "Epoch 5/19, current lr=0.001\n",
            "save model.pth\n",
            "train loss: 1.843052, val loss: 4.194115, accuracy: 14.77, time: 99.7135 min\n",
            "----------\n",
            "Epoch 6/19, current lr=0.001\n",
            "save model.pth\n",
            "train loss: 1.705902, val loss: 8.702354, accuracy: 10.51, time: 114.3552 min\n",
            "----------\n",
            "Epoch 7/19, current lr=0.001\n",
            "save model.pth\n",
            "train loss: 1.590973, val loss: 2.019638, accuracy: 42.42, time: 130.8171 min\n",
            "----------\n",
            "Epoch 8/19, current lr=0.001\n",
            "save model.pth\n",
            "train loss: 1.384836, val loss: 3.032558, accuracy: 19.03, time: 145.5788 min\n",
            "----------\n",
            "Epoch 9/19, current lr=0.001\n",
            "save model.pth\n",
            "train loss: 1.292060, val loss: 4.766579, accuracy: 14.57, time: 159.6744 min\n",
            "----------\n",
            "Epoch 10/19, current lr=0.001\n",
            "save model.pth\n",
            "train loss: 1.155045, val loss: 2.063165, accuracy: 44.10, time: 173.2780 min\n",
            "----------\n",
            "Epoch 11/19, current lr=0.001\n",
            "save model.pth\n",
            "train loss: 0.962706, val loss: 7.236837, accuracy: 17.64, time: 187.0618 min\n",
            "----------\n",
            "Epoch 12/19, current lr=0.001\n",
            "save model.pth\n",
            "train loss: 0.868008, val loss: 7.152500, accuracy: 18.53, time: 201.0613 min\n",
            "----------\n",
            "Epoch 13/19, current lr=0.001\n",
            "save model.pth\n",
            "train loss: 0.724581, val loss: 14.295618, accuracy: 13.18, time: 214.9321 min\n",
            "----------\n",
            "Epoch 14/19, current lr=0.001\n",
            "save model.pth\n",
            "train loss: 0.598317, val loss: 17.316816, accuracy: 9.61, time: 228.7971 min\n",
            "----------\n",
            "Epoch 15/19, current lr=0.001\n",
            "save model.pth\n",
            "train loss: 0.426530, val loss: 8.047919, accuracy: 17.74, time: 243.1342 min\n",
            "----------\n",
            "Epoch 16/19, current lr=0.001\n",
            "save model.pth\n",
            "train loss: 0.329674, val loss: 3.466640, accuracy: 26.76, time: 257.6638 min\n",
            "----------\n",
            "Epoch 17/19, current lr=0.001\n",
            "save model.pth\n",
            "train loss: 0.233868, val loss: 2.636258, accuracy: 36.67, time: 271.7440 min\n",
            "----------\n",
            "Epoch 18/19, current lr=0.001\n",
            "save model.pth\n",
            "train loss: 0.231160, val loss: 2.742602, accuracy: 48.76, time: 285.6122 min\n",
            "----------\n",
            "Epoch 19/19, current lr=0.0001\n",
            "save model.pth\n",
            "train loss: 0.136472, val loss: 1.417698, accuracy: 62.93, time: 299.4854 min\n",
            "----------\n"
          ]
        }
      ],
      "source": [
        "model, loss_hist, metric_hist = train_val(model, params_train)"
      ]
    },
    {
      "cell_type": "code",
      "execution_count": 18,
      "metadata": {
        "colab": {
          "base_uri": "https://localhost:8080/",
          "height": 573
        },
        "id": "Mbf377mI8B1g",
        "outputId": "a9550ff6-4e68-4313-9ef4-e83cec6044de"
      },
      "outputs": [
        {
          "output_type": "display_data",
          "data": {
            "text/plain": [
              "<Figure size 432x288 with 1 Axes>"
            ],
            "image/png": "[encoded data removed]"
          },
          "metadata": {
            "needs_background": "light"
          }
        },
        {
          "output_type": "display_data",
          "data": {
            "text/plain": [
              "<Figure size 432x288 with 1 Axes>"
            ],
            "image/png": "[encoded data removed]"
          },
          "metadata": {
            "needs_background": "light"
          }
        }
      ],
      "source": [
        "num_epoches = params_train[\"num_epochs\"]\n",
        "\n",
        "plt.title(\"Train-Val Loss\")\n",
        "plt.plot(range(1, num_epoches + 1), loss_hist[\"train\"], label = \"train\")\n",
        "plt.plot(range(1, num_epoches + 1), loss_hist[\"val\"], label= \"val\")\n",
        "plt.ylabel(\"Loss\")\n",
        "plt.xlabel(\"Training Epochs\")\n",
        "plt.legend()\n",
        "plt.show()\n",
        "\n",
        "plt.title(\"Train-Val Accuracy\")\n",
        "plt.plot(range(1, num_epoches + 1), metric_hist[\"train\"], label = \"train\")\n",
        "plt.plot(range(1, num_epoches + 1), metric_hist[\"val\"], label = \"val\")\n",
        "plt.ylabel(\"Accuracy\")\n",
        "plt.xlabel(\"Training Epochs\")\n",
        "plt.legend()\n",
        "plt.show()\n"
      ]
    },
    {
      "cell_type": "markdown",
      "source": [],
      "metadata": {
        "id": "q5L8Z3KSPzHv"
      }
    },
    {
      "cell_type": "markdown",
      "source": [],
      "metadata": {
        "id": "LdJxUvRqPy4W"
      }
    },
    {
      "cell_type": "code",
      "source": [
        "# 실사 + 일러의 10개 뽑기\n",
        "\n",
        "# import\n",
        "import numpy as np\n",
        "import cv2\n",
        "from google.colab.patches import cv2_imshow\n",
        "import pandas as pd\n",
        "import matplotlib.pyplot as plt\n",
        "import os\n",
        "import sklearn as sk\n",
        "import random\n",
        "from keras.preprocessing import image\n",
        "\n",
        "#from keras.preprocessing.image import img_to_array \n",
        "from keras.applications.vgg16 import preprocess_input \n",
        "\n",
        "\n",
        "# models \n",
        "from keras.applications.vgg16 import VGG16 \n",
        "from keras.models import Model\n",
        "\n",
        "# clustering and dimension reduction\n",
        "from sklearn.cluster import KMeans\n",
        "from sklearn.decomposition import PCA\n",
        "\n",
        "\n",
        "def extract_features(file, model): \n",
        "  img = cv2.imread(file)\n",
        "  img = cv2.resize(img, (224, 224))\n",
        "  imgx = preprocess_input(np.array([img]))\n",
        "  features = model.predict(imgx, use_multiprocessing=True)\n",
        "  return features\n",
        "\n",
        "\n",
        "def make_cluster(src):\n",
        "  filesets = os.listdir(src)\n",
        "  fileset = list(set(filesets))\n",
        "    \n",
        "  model = VGG16()\n",
        "  model = Model(inputs=model.inputs, outputs=model.layers[-2].output)\n",
        "\n",
        "  data = {}\n",
        "  for file in filesets:\n",
        "    feat = extract_features(src + \"/\" + file, model)\n",
        "    data[file] = feat\n",
        "\n",
        "  filenames = np.array(list(data.keys()))\n",
        "  feat = np.array(list(data.values()))\n",
        "\n",
        "  feat = feat.reshape(-1,4096)\n",
        "  feat.shape\n",
        "\n",
        "  pca = PCA(n_components=100, random_state=22)\n",
        "  pca.fit(feat)\n",
        "  x = pca.transform(feat)\n",
        "\n",
        "  kmeans = KMeans(n_clusters=2, random_state=22)\n",
        "  kmeans.fit(x)\n",
        "\n",
        "  groups = {}\n",
        "  for file, cluster in zip(filenames, kmeans.labels_):\n",
        "      if cluster not in groups.keys():\n",
        "          groups[cluster] = []\n",
        "          groups[cluster].append(file)\n",
        "      else:\n",
        "          groups[cluster].append(file)\n",
        "  return groups\n",
        "\n",
        "\n",
        "def decision(src):\n",
        "  img = cv2.imread(src)\n",
        "  img = cv2.resize(img, (100, 100))\n",
        "  hist_ = cv2.calcHist([img], [0], None, [256], [0,256])\n",
        "  #std = int(hist_.var())\n",
        "  hist_[hist_ < (hist_[hist_.argmax()])//4] = 0\n",
        "  frequency = len(np.unique(hist_))\n",
        "\n",
        "  return frequency \n",
        "  \n",
        "\n",
        "def match(group1, group2):\n",
        "  group1list = []\n",
        "  group2list = []\n",
        "\n",
        "  for g1 in group1:\n",
        "      group1list.append(decision(src + '/' + g1))\n",
        "  for g2 in group2:\n",
        "     group2list.append(decision(src + '/' + g2))\n",
        "  print(\"g0 : \", group1list)\n",
        "  print(\"g1 : \", group2list)\n",
        "  \n",
        "  return max(group1list), max(group2list)\n",
        " \n",
        "def remove_Real_image(src, groups):\n",
        "  for g in groups:\n",
        "    file_path = src + '/' + g\n",
        "    if os.path.isfile(file_path):\n",
        "      os.remove(file_path)\n",
        "        \n",
        "\n",
        "\n",
        "file_dir = \"/content/drive/MyDrive/tmp/L2_\"\n",
        "\n",
        "classlist = ['10', '12', '15', '20', '21', '24', '25', '27', '3', '30', '33', '34', \\\n",
        "              '39', '40', '41', '44', '45', '46', '50', '52']\n",
        "\n",
        "\n",
        "for c in range(len(classlist)):  # len(classlist) \n",
        "  src = file_dir + classlist[c]\n",
        "  groups_ = make_cluster(src)\n",
        "  ret_g0, ret_g1 = match(random.sample(groups_[0], 15), random.sample(groups_[1], 15)) \n",
        "  print(classlist[c], ' : ')\n",
        "\n",
        "  if ret_g0 > 15:               # ret_g0 is real\n",
        "    remove_Real_image(src, groups_[0])\n",
        "    print(\"그룹0이 실사이므로 삭제되었습니다.\")\n",
        "  elif ret_g1 > 15:             # ret_g1 is real\n",
        "    is_real = True\n",
        "    remove_Real_image(src, groups_[1])\n",
        "    print(\"그룹1이 실사이므로 삭제되었습니다.\")\n",
        "  else:\n",
        "    print(\"클래스 모두 일러입니다.\")\n"
      ],
      "metadata": {
        "id": "Os-NEmjYPxz4"
      },
      "execution_count": null,
      "outputs": []
    },
    {
      "cell_type": "code",
      "source": [],
      "metadata": {
        "id": "9ah2vvZePzRg"
      },
      "execution_count": null,
      "outputs": []
    }
  ],
  "metadata": {
    "accelerator": "GPU",
    "colab": {
      "collapsed_sections": [],
      "provenance": [],
      "include_colab_link": true
    },
    "gpuClass": "premium",
    "kernelspec": {
      "display_name": "Python 3",
      "name": "python3"
    },
    "language_info": {
      "name": "python"
    }
  },
  "nbformat": 4,
  "nbformat_minor": 0
}
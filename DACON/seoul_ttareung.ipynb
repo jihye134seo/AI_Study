{
  "nbformat": 4,
  "nbformat_minor": 0,
  "metadata": {
    "colab": {
      "name": "[DACON]-[seoul-ttareung].ipynb",
      "provenance": [],
      "include_colab_link": true
    },
    "kernelspec": {
      "name": "python3",
      "display_name": "Python 3"
    },
    "language_info": {
      "name": "python"
    },
    "accelerator": "GPU",
    "gpuClass": "standard"
  },
  "cells": [
    {
      "cell_type": "markdown",
      "metadata": {
        "id": "view-in-github",
        "colab_type": "text"
      },
      "source": [
        "<a href=\"https://colab.research.google.com/github/jihye134seo/AI_Study/blob/main/DACON/seoul_ttareung.ipynb\" target=\"_parent\"><img src=\"https://colab.research.google.com/assets/colab-badge.svg\" alt=\"Open In Colab\"/></a>"
      ]
    },
    {
      "cell_type": "markdown",
      "source": [
        "드라이브 마운트"
      ],
      "metadata": {
        "id": "9Z-iFklTGxDP"
      }
    },
    {
      "cell_type": "markdown",
      "source": [
        "# 라이브러리"
      ],
      "metadata": {
        "id": "4arDtlSUHH_l"
      }
    },
    {
      "cell_type": "markdown",
      "source": [
        "1. 구글 드라이브 연동"
      ],
      "metadata": {
        "id": "DvK2ZlkzHPJx"
      }
    },
    {
      "cell_type": "code",
      "source": [
        "from google.colab import drive\n",
        "drive.mount('/content/drive')"
      ],
      "metadata": {
        "colab": {
          "base_uri": "https://localhost:8080/"
        },
        "id": "YiuzMyegHNKb",
        "outputId": "94462d67-eee8-4804-fd2f-31506a2618fb"
      },
      "execution_count": 5,
      "outputs": [
        {
          "output_type": "stream",
          "name": "stdout",
          "text": [
            "Drive already mounted at /content/drive; to attempt to forcibly remount, call drive.mount(\"/content/drive\", force_remount=True).\n"
          ]
        }
      ]
    },
    {
      "cell_type": "code",
      "execution_count": 6,
      "metadata": {
        "id": "7n_Sg_ObOEsd"
      },
      "outputs": [],
      "source": [
        "import pandas as pd\n",
        "import numpy as np\n",
        "\n",
        "# 시각화에 필요한 라이브러리를 import\n",
        "import matplotlib\n",
        "import matplotlib.pyplot as plt\n",
        "import seaborn as sns\n",
        "\n",
        "# 전처리를 위한 라이브러리를 import\n",
        "from sklearn.preprocessing import MinMaxScaler\n",
        "from sklearn.preprocessing import OneHotEncoder\n",
        "\n",
        "# 모델링을 위한 라이브러리를 import\n",
        "from sklearn.ensemble import RandomForestClassifier\n",
        "\n",
        "# 교차검증을 위한 라이브러리를 import\n",
        "from sklearn.model_selection import KFold, train_test_split\n",
        "from sklearn.metrics import accuracy_score\n",
        "\n",
        "# 쥬피터노트에서 결과를 출력하도록 설정\n",
        "%matplotlib inline\n",
        "\n",
        "# 마이너스 기호 출력\n",
        "plt.rc('axes', unicode_minus=False)\n",
        "\n",
        "# 분석에 문제가 없는 경고 메세지는 숨긴다.\n",
        "import warnings\n",
        "warnings.filterwarnings('ignore')"
      ]
    },
    {
      "cell_type": "markdown",
      "source": [
        "# EDA"
      ],
      "metadata": {
        "id": "3GVwfVzbHWuK"
      }
    },
    {
      "cell_type": "markdown",
      "source": [
        "1. 파일 가져오기"
      ],
      "metadata": {
        "id": "FfrhlTgxHeIA"
      }
    },
    {
      "cell_type": "code",
      "source": [
        "train = pd.read_csv('/content/drive/MyDrive/AI공부/DACON공부/[기초]서울시 따릉이 예측/DATA/따릉이/train.csv')\n",
        "test = pd.read_csv('/content/drive/MyDrive/AI공부/DACON공부/[기초]서울시 따릉이 예측/DATA/따릉이/test.csv')"
      ],
      "metadata": {
        "id": "JpnNxB2qPJ_z"
      },
      "execution_count": 7,
      "outputs": []
    },
    {
      "cell_type": "markdown",
      "source": [
        "2. 데이터 확인"
      ],
      "metadata": {
        "id": "6PV8RSqTHf0c"
      }
    },
    {
      "cell_type": "code",
      "source": [
        "train.info()\n",
        "test.info()"
      ],
      "metadata": {
        "id": "n9JYEdpXPew4",
        "colab": {
          "base_uri": "https://localhost:8080/"
        },
        "outputId": "98b1d21c-eb24-498a-8e5f-2f0dd994bb62"
      },
      "execution_count": 8,
      "outputs": [
        {
          "output_type": "stream",
          "name": "stdout",
          "text": [
            "<class 'pandas.core.frame.DataFrame'>\n",
            "RangeIndex: 1459 entries, 0 to 1458\n",
            "Data columns (total 11 columns):\n",
            " #   Column                  Non-Null Count  Dtype  \n",
            "---  ------                  --------------  -----  \n",
            " 0   id                      1459 non-null   int64  \n",
            " 1   hour                    1459 non-null   int64  \n",
            " 2   hour_bef_temperature    1457 non-null   float64\n",
            " 3   hour_bef_precipitation  1457 non-null   float64\n",
            " 4   hour_bef_windspeed      1450 non-null   float64\n",
            " 5   hour_bef_humidity       1457 non-null   float64\n",
            " 6   hour_bef_visibility     1457 non-null   float64\n",
            " 7   hour_bef_ozone          1383 non-null   float64\n",
            " 8   hour_bef_pm10           1369 non-null   float64\n",
            " 9   hour_bef_pm2.5          1342 non-null   float64\n",
            " 10  count                   1459 non-null   float64\n",
            "dtypes: float64(9), int64(2)\n",
            "memory usage: 125.5 KB\n",
            "<class 'pandas.core.frame.DataFrame'>\n",
            "RangeIndex: 715 entries, 0 to 714\n",
            "Data columns (total 10 columns):\n",
            " #   Column                  Non-Null Count  Dtype  \n",
            "---  ------                  --------------  -----  \n",
            " 0   id                      715 non-null    int64  \n",
            " 1   hour                    715 non-null    int64  \n",
            " 2   hour_bef_temperature    714 non-null    float64\n",
            " 3   hour_bef_precipitation  714 non-null    float64\n",
            " 4   hour_bef_windspeed      714 non-null    float64\n",
            " 5   hour_bef_humidity       714 non-null    float64\n",
            " 6   hour_bef_visibility     714 non-null    float64\n",
            " 7   hour_bef_ozone          680 non-null    float64\n",
            " 8   hour_bef_pm10           678 non-null    float64\n",
            " 9   hour_bef_pm2.5          679 non-null    float64\n",
            "dtypes: float64(8), int64(2)\n",
            "memory usage: 56.0 KB\n"
          ]
        }
      ]
    },
    {
      "cell_type": "code",
      "source": [
        "print(train.shape)\n",
        "print(test.shape)"
      ],
      "metadata": {
        "colab": {
          "base_uri": "https://localhost:8080/"
        },
        "id": "DGE_nYT7PsVt",
        "outputId": "988c6e0b-f2f0-433a-a01a-593d58793080"
      },
      "execution_count": 9,
      "outputs": [
        {
          "output_type": "stream",
          "name": "stdout",
          "text": [
            "(1459, 11)\n",
            "(715, 10)\n"
          ]
        }
      ]
    },
    {
      "cell_type": "code",
      "source": [
        "train.head()\n",
        "# test.head()"
      ],
      "metadata": {
        "colab": {
          "base_uri": "https://localhost:8080/",
          "height": 206
        },
        "id": "gY9GiJBYPyRA",
        "outputId": "5b787cd3-c1e5-4250-8c86-f40fe08a8154"
      },
      "execution_count": 10,
      "outputs": [
        {
          "output_type": "execute_result",
          "data": {
            "text/plain": [
              "   id  hour  hour_bef_temperature  hour_bef_precipitation  hour_bef_windspeed  \\\n",
              "0   3    20                  16.3                     1.0                 1.5   \n",
              "1   6    13                  20.1                     0.0                 1.4   \n",
              "2   7     6                  13.9                     0.0                 0.7   \n",
              "3   8    23                   8.1                     0.0                 2.7   \n",
              "4   9    18                  29.5                     0.0                 4.8   \n",
              "\n",
              "   hour_bef_humidity  hour_bef_visibility  hour_bef_ozone  hour_bef_pm10  \\\n",
              "0               89.0                576.0           0.027           76.0   \n",
              "1               48.0                916.0           0.042           73.0   \n",
              "2               79.0               1382.0           0.033           32.0   \n",
              "3               54.0                946.0           0.040           75.0   \n",
              "4                7.0               2000.0           0.057           27.0   \n",
              "\n",
              "   hour_bef_pm2.5  count  \n",
              "0            33.0   49.0  \n",
              "1            40.0  159.0  \n",
              "2            19.0   26.0  \n",
              "3            64.0   57.0  \n",
              "4            11.0  431.0  "
            ],
            "text/html": [
              "\n",
              "  <div id=\"df-9614701c-57f0-4b75-8b95-50d1366ea021\">\n",
              "    <div class=\"colab-df-container\">\n",
              "      <div>\n",
              "<style scoped>\n",
              "    .dataframe tbody tr th:only-of-type {\n",
              "        vertical-align: middle;\n",
              "    }\n",
              "\n",
              "    .dataframe tbody tr th {\n",
              "        vertical-align: top;\n",
              "    }\n",
              "\n",
              "    .dataframe thead th {\n",
              "        text-align: right;\n",
              "    }\n",
              "</style>\n",
              "<table border=\"1\" class=\"dataframe\">\n",
              "  <thead>\n",
              "    <tr style=\"text-align: right;\">\n",
              "      <th></th>\n",
              "      <th>id</th>\n",
              "      <th>hour</th>\n",
              "      <th>hour_bef_temperature</th>\n",
              "      <th>hour_bef_precipitation</th>\n",
              "      <th>hour_bef_windspeed</th>\n",
              "      <th>hour_bef_humidity</th>\n",
              "      <th>hour_bef_visibility</th>\n",
              "      <th>hour_bef_ozone</th>\n",
              "      <th>hour_bef_pm10</th>\n",
              "      <th>hour_bef_pm2.5</th>\n",
              "      <th>count</th>\n",
              "    </tr>\n",
              "  </thead>\n",
              "  <tbody>\n",
              "    <tr>\n",
              "      <th>0</th>\n",
              "      <td>3</td>\n",
              "      <td>20</td>\n",
              "      <td>16.3</td>\n",
              "      <td>1.0</td>\n",
              "      <td>1.5</td>\n",
              "      <td>89.0</td>\n",
              "      <td>576.0</td>\n",
              "      <td>0.027</td>\n",
              "      <td>76.0</td>\n",
              "      <td>33.0</td>\n",
              "      <td>49.0</td>\n",
              "    </tr>\n",
              "    <tr>\n",
              "      <th>1</th>\n",
              "      <td>6</td>\n",
              "      <td>13</td>\n",
              "      <td>20.1</td>\n",
              "      <td>0.0</td>\n",
              "      <td>1.4</td>\n",
              "      <td>48.0</td>\n",
              "      <td>916.0</td>\n",
              "      <td>0.042</td>\n",
              "      <td>73.0</td>\n",
              "      <td>40.0</td>\n",
              "      <td>159.0</td>\n",
              "    </tr>\n",
              "    <tr>\n",
              "      <th>2</th>\n",
              "      <td>7</td>\n",
              "      <td>6</td>\n",
              "      <td>13.9</td>\n",
              "      <td>0.0</td>\n",
              "      <td>0.7</td>\n",
              "      <td>79.0</td>\n",
              "      <td>1382.0</td>\n",
              "      <td>0.033</td>\n",
              "      <td>32.0</td>\n",
              "      <td>19.0</td>\n",
              "      <td>26.0</td>\n",
              "    </tr>\n",
              "    <tr>\n",
              "      <th>3</th>\n",
              "      <td>8</td>\n",
              "      <td>23</td>\n",
              "      <td>8.1</td>\n",
              "      <td>0.0</td>\n",
              "      <td>2.7</td>\n",
              "      <td>54.0</td>\n",
              "      <td>946.0</td>\n",
              "      <td>0.040</td>\n",
              "      <td>75.0</td>\n",
              "      <td>64.0</td>\n",
              "      <td>57.0</td>\n",
              "    </tr>\n",
              "    <tr>\n",
              "      <th>4</th>\n",
              "      <td>9</td>\n",
              "      <td>18</td>\n",
              "      <td>29.5</td>\n",
              "      <td>0.0</td>\n",
              "      <td>4.8</td>\n",
              "      <td>7.0</td>\n",
              "      <td>2000.0</td>\n",
              "      <td>0.057</td>\n",
              "      <td>27.0</td>\n",
              "      <td>11.0</td>\n",
              "      <td>431.0</td>\n",
              "    </tr>\n",
              "  </tbody>\n",
              "</table>\n",
              "</div>\n",
              "      <button class=\"colab-df-convert\" onclick=\"convertToInteractive('df-9614701c-57f0-4b75-8b95-50d1366ea021')\"\n",
              "              title=\"Convert this dataframe to an interactive table.\"\n",
              "              style=\"display:none;\">\n",
              "        \n",
              "  <svg xmlns=\"http://www.w3.org/2000/svg\" height=\"24px\"viewBox=\"0 0 24 24\"\n",
              "       width=\"24px\">\n",
              "    <path d=\"M0 0h24v24H0V0z\" fill=\"none\"/>\n",
              "    <path d=\"M18.56 5.44l.94 2.06.94-2.06 2.06-.94-2.06-.94-.94-2.06-.94 2.06-2.06.94zm-11 1L8.5 8.5l.94-2.06 2.06-.94-2.06-.94L8.5 2.5l-.94 2.06-2.06.94zm10 10l.94 2.06.94-2.06 2.06-.94-2.06-.94-.94-2.06-.94 2.06-2.06.94z\"/><path d=\"M17.41 7.96l-1.37-1.37c-.4-.4-.92-.59-1.43-.59-.52 0-1.04.2-1.43.59L10.3 9.45l-7.72 7.72c-.78.78-.78 2.05 0 2.83L4 21.41c.39.39.9.59 1.41.59.51 0 1.02-.2 1.41-.59l7.78-7.78 2.81-2.81c.8-.78.8-2.07 0-2.86zM5.41 20L4 18.59l7.72-7.72 1.47 1.35L5.41 20z\"/>\n",
              "  </svg>\n",
              "      </button>\n",
              "      \n",
              "  <style>\n",
              "    .colab-df-container {\n",
              "      display:flex;\n",
              "      flex-wrap:wrap;\n",
              "      gap: 12px;\n",
              "    }\n",
              "\n",
              "    .colab-df-convert {\n",
              "      background-color: #E8F0FE;\n",
              "      border: none;\n",
              "      border-radius: 50%;\n",
              "      cursor: pointer;\n",
              "      display: none;\n",
              "      fill: #1967D2;\n",
              "      height: 32px;\n",
              "      padding: 0 0 0 0;\n",
              "      width: 32px;\n",
              "    }\n",
              "\n",
              "    .colab-df-convert:hover {\n",
              "      background-color: #E2EBFA;\n",
              "      box-shadow: 0px 1px 2px rgba(60, 64, 67, 0.3), 0px 1px 3px 1px rgba(60, 64, 67, 0.15);\n",
              "      fill: #174EA6;\n",
              "    }\n",
              "\n",
              "    [theme=dark] .colab-df-convert {\n",
              "      background-color: #3B4455;\n",
              "      fill: #D2E3FC;\n",
              "    }\n",
              "\n",
              "    [theme=dark] .colab-df-convert:hover {\n",
              "      background-color: #434B5C;\n",
              "      box-shadow: 0px 1px 3px 1px rgba(0, 0, 0, 0.15);\n",
              "      filter: drop-shadow(0px 1px 2px rgba(0, 0, 0, 0.3));\n",
              "      fill: #FFFFFF;\n",
              "    }\n",
              "  </style>\n",
              "\n",
              "      <script>\n",
              "        const buttonEl =\n",
              "          document.querySelector('#df-9614701c-57f0-4b75-8b95-50d1366ea021 button.colab-df-convert');\n",
              "        buttonEl.style.display =\n",
              "          google.colab.kernel.accessAllowed ? 'block' : 'none';\n",
              "\n",
              "        async function convertToInteractive(key) {\n",
              "          const element = document.querySelector('#df-9614701c-57f0-4b75-8b95-50d1366ea021');\n",
              "          const dataTable =\n",
              "            await google.colab.kernel.invokeFunction('convertToInteractive',\n",
              "                                                     [key], {});\n",
              "          if (!dataTable) return;\n",
              "\n",
              "          const docLinkHtml = 'Like what you see? Visit the ' +\n",
              "            '<a target=\"_blank\" href=https://colab.research.google.com/notebooks/data_table.ipynb>data table notebook</a>'\n",
              "            + ' to learn more about interactive tables.';\n",
              "          element.innerHTML = '';\n",
              "          dataTable['output_type'] = 'display_data';\n",
              "          await google.colab.output.renderOutput(dataTable, element);\n",
              "          const docLink = document.createElement('div');\n",
              "          docLink.innerHTML = docLinkHtml;\n",
              "          element.appendChild(docLink);\n",
              "        }\n",
              "      </script>\n",
              "    </div>\n",
              "  </div>\n",
              "  "
            ]
          },
          "metadata": {},
          "execution_count": 10
        }
      ]
    },
    {
      "cell_type": "code",
      "source": [
        "train_c = train.copy()\n",
        "train_c.isnull().sum()\n",
        "\n",
        "#시간(hour)을 기준으로 정렬\n",
        "train_c = train_c.sort_values(by=['hour'])\n",
        "train_c.head()\n",
        "\n",
        "#결측치 앞 뒤 값으로 보간\n",
        "train_c.isnull().sum()\n",
        "train_c.interpolate(inplace=True)\n",
        "train_c.isnull().sum()\n"
      ],
      "metadata": {
        "id": "wuxpsbNzNgTn",
        "colab": {
          "base_uri": "https://localhost:8080/"
        },
        "outputId": "152fe1a9-7515-4e54-f84f-ba792f52e89d"
      },
      "execution_count": 11,
      "outputs": [
        {
          "output_type": "execute_result",
          "data": {
            "text/plain": [
              "id                        0\n",
              "hour                      0\n",
              "hour_bef_temperature      0\n",
              "hour_bef_precipitation    0\n",
              "hour_bef_windspeed        0\n",
              "hour_bef_humidity         0\n",
              "hour_bef_visibility       0\n",
              "hour_bef_ozone            0\n",
              "hour_bef_pm10             0\n",
              "hour_bef_pm2.5            0\n",
              "count                     0\n",
              "dtype: int64"
            ]
          },
          "metadata": {},
          "execution_count": 11
        }
      ]
    },
    {
      "cell_type": "markdown",
      "source": [
        "[0] 시간별 평균 따릉이 대여수 시각화"
      ],
      "metadata": {
        "id": "MqA8BTGaRdu0"
      }
    },
    {
      "cell_type": "code",
      "source": [
        "train_c.groupby(['hour'])['count'].mean().plot(kind = 'bar', color = 'green')\n",
        "\n",
        "plt.title(\"hour - count relation\")\n",
        "\n",
        "plt.xlabel(\"hour\")\n",
        "plt.ylabel(\"count\")\n",
        "\n",
        "plt.show()"
      ],
      "metadata": {
        "colab": {
          "base_uri": "https://localhost:8080/",
          "height": 298
        },
        "id": "f7hSxZZxRhIy",
        "outputId": "62854747-0764-44c0-f92c-17a2236cc691"
      },
      "execution_count": 12,
      "outputs": [
        {
          "output_type": "display_data",
          "data": {
            "text/plain": [
              "<Figure size 432x288 with 1 Axes>"
            ],
            "image/png": "[encoded data removed]"
          },
          "metadata": {
            "needs_background": "light"
          }
        }
      ]
    },
    {
      "cell_type": "markdown",
      "source": [
        "[1] 시간별 평균 온도, 평균 습도 시각화\n"
      ],
      "metadata": {
        "id": "dcJweQUwMXF6"
      }
    },
    {
      "cell_type": "code",
      "source": [
        "x = [0, 1, 2, 3, 4, 5, 6, 7, 8, 9, 10, 11, 12, 13, 14, 15, 16, 17, 18, 19, 20, 21, 22, 23]\n",
        "hour_hum = train_c.groupby(['hour'])['hour_bef_humidity'].mean()\n",
        "hour_tem = train_c.groupby(['hour'])['hour_bef_temperature'].mean()\n",
        "\n",
        "hour_hum = np.array(hour_hum)\n",
        "hour_tem = np.array(hour_tem)\n",
        "\n",
        "fig, ax1 = plt.subplots()\n",
        "ax1.plot(x, hour_hum, color = 'red', alpha = 0.5)\n",
        "ax1.set_ylabel('humidity', color = 'red', rotation = 90)\n",
        "ax1.set_ylim(20, 80)\n",
        "\n",
        "ax2 = ax1.twinx()\n",
        "ax2.plot(x, hour_tem, color = 'blue', alpha = 0.5)\n",
        "ax2.set_ylabel('temperature', color = 'blue', rotation = 90)\n",
        "ax2.set_ylim(0, 35)\n",
        "\n",
        "plt.xticks(range(24), range(24))\n",
        "plt.title(\"hour - humidity, temperature relation\")\n",
        "plt.xlabel(\"hour\")\n",
        "\n",
        "plt.show()\n"
      ],
      "metadata": {
        "colab": {
          "base_uri": "https://localhost:8080/",
          "height": 281
        },
        "id": "RAm5E9wwMr-F",
        "outputId": "085d13e7-7279-405b-e7c5-1bf886ca76ab"
      },
      "execution_count": 13,
      "outputs": [
        {
          "output_type": "display_data",
          "data": {
            "text/plain": [
              "<Figure size 432x288 with 2 Axes>"
            ],
            "image/png": "[encoded data removed]"
          },
          "metadata": {
            "needs_background": "light"
          }
        }
      ]
    },
    {
      "cell_type": "markdown",
      "source": [
        "정리1 : 온도가 높아지면 습도는 줄어들고 온도가 낮아지면 습도가 높아진다.\n"
      ],
      "metadata": {
        "id": "F2retgEDWowV"
      }
    },
    {
      "cell_type": "markdown",
      "source": [
        "[2] 시간별 평균 pm2.5, pm10 시각화"
      ],
      "metadata": {
        "id": "B1uyh60_MsgD"
      }
    },
    {
      "cell_type": "code",
      "source": [
        "hour_pm25 = train_c.groupby(['hour'])['hour_bef_pm2.5'].mean()\n",
        "hour_pm10 = train_c.groupby(['hour'])['hour_bef_pm10'].mean()\n",
        "\n",
        "hour_pm25 = np.array(hour_pm25)\n",
        "hour_pm10 = np.array(hour_pm10)\n",
        "\n",
        "# print(hour_pm25)\n",
        "# print(hour_pm10)\n",
        "\n",
        "fig, ax1 = plt.subplots()\n",
        "ax1.plot(x, hour_pm25, color = 'red', alpha = 0.5)\n",
        "ax1.set_ylabel('pm2.5', color = 'red', rotation = 90)\n",
        "ax1.set_ylim(26, 34)\n",
        "\n",
        "ax2 = ax1.twinx()\n",
        "ax2.plot(x, hour_pm10, color = 'blue', alpha = 0.5)\n",
        "ax2.set_ylabel('pm10', color = 'blue', rotation = 90)\n",
        "ax2.set_ylim(52, 66)\n",
        "\n",
        "plt.xticks(range(24), range(24))\n",
        "plt.title(\"hour - pm2.5, pm10 relation\")\n",
        "plt.xlabel(\"hour\")\n",
        "\n",
        "plt.show()\n"
      ],
      "metadata": {
        "colab": {
          "base_uri": "https://localhost:8080/",
          "height": 281
        },
        "id": "VvFcd140M4sA",
        "outputId": "2720e35d-35ab-48ea-82d9-60421c5178e7"
      },
      "execution_count": 14,
      "outputs": [
        {
          "output_type": "display_data",
          "data": {
            "text/plain": [
              "<Figure size 432x288 with 2 Axes>"
            ],
            "image/png": "[encoded data removed]"
          },
          "metadata": {
            "needs_background": "light"
          }
        }
      ]
    },
    {
      "cell_type": "markdown",
      "source": [
        "정리 : pm2.5는 오전에 높고 오후에 낮아진다.\n",
        "pm10은 일출 이후에 높고 점점 낮아진다."
      ],
      "metadata": {
        "id": "gIs7UcDrYwaP"
      }
    },
    {
      "cell_type": "markdown",
      "source": [
        "[3] 시간별 평균 가시성, 풍속 시각화"
      ],
      "metadata": {
        "id": "ZdESCJduMyQJ"
      }
    },
    {
      "cell_type": "code",
      "source": [
        "hour_wind = train_c.groupby(['hour'])['hour_bef_windspeed'].mean()\n",
        "hour_visi = train_c.groupby(['hour'])['hour_bef_visibility'].mean()\n",
        "\n",
        "hour_wind = np.array(hour_wind)\n",
        "hour_visi = np.array(hour_visi)\n",
        "\n",
        "fig, ax1 = plt.subplots()\n",
        "ax1.plot(x, hour_wind, color = 'red', alpha = 0.5)\n",
        "ax1.set_ylabel('windspeed', color = 'red', rotation = 90)\n",
        "ax1.set_ylim(0.5, 4.5)\n",
        "\n",
        "ax2 = ax1.twinx()\n",
        "ax2.plot(x, hour_visi, color = 'blue', alpha = 0.5)\n",
        "ax2.set_ylabel('visibility', color = 'blue', rotation = 90)\n",
        "# ax2.set_ylim(52, 66)\n",
        "\n",
        "plt.xticks(range(24), range(24))\n",
        "plt.title(\"hour - windspeed, visibility relation\")\n",
        "plt.xlabel(\"hour\")\n",
        "\n",
        "plt.show()"
      ],
      "metadata": {
        "colab": {
          "base_uri": "https://localhost:8080/",
          "height": 281
        },
        "id": "-2TquRo5ZFZu",
        "outputId": "a31052d6-af75-4bc8-9376-d4ada99d2143"
      },
      "execution_count": 15,
      "outputs": [
        {
          "output_type": "display_data",
          "data": {
            "text/plain": [
              "<Figure size 432x288 with 2 Axes>"
            ],
            "image/png": "[encoded data removed]"
          },
          "metadata": {
            "needs_background": "light"
          }
        }
      ]
    },
    {
      "cell_type": "markdown",
      "source": [
        "정리 : 대체적으로 풍속과 가시성은 비슷한 양상을 보인다."
      ],
      "metadata": {
        "id": "2i-UW2_tcXar"
      }
    },
    {
      "cell_type": "markdown",
      "source": [
        "[4] 시간별 강수 횟수"
      ],
      "metadata": {
        "id": "pnvQy0kwcnrj"
      }
    },
    {
      "cell_type": "code",
      "source": [
        "train_c.groupby(['hour'])['hour_bef_precipitation'].count().plot(kind = 'bar', color = 'blue')\n",
        "\n",
        "plt.title(\"hour - precipitation relation\")\n",
        "\n",
        "plt.xlabel(\"hour\")\n",
        "plt.ylabel(\"precipitation\")\n",
        "plt.ylim([58, 62])\n",
        "\n",
        "plt.show()"
      ],
      "metadata": {
        "colab": {
          "base_uri": "https://localhost:8080/",
          "height": 298
        },
        "id": "rxM1649dcr4m",
        "outputId": "b5e16c06-6edb-46e4-ab5d-ded37435f392"
      },
      "execution_count": 16,
      "outputs": [
        {
          "output_type": "display_data",
          "data": {
            "text/plain": [
              "<Figure size 432x288 with 1 Axes>"
            ],
            "image/png": "[encoded data removed]"
          },
          "metadata": {
            "needs_background": "light"
          }
        }
      ]
    },
    {
      "cell_type": "markdown",
      "source": [
        "[5] 시간별 평균 오존량 시각화"
      ],
      "metadata": {
        "id": "bpm32PIceGxo"
      }
    },
    {
      "cell_type": "code",
      "source": [
        "\n",
        "train_c.groupby(['hour'])['hour_bef_ozone'].mean().plot(kind = 'bar', color = '#e35f62')\n",
        "\n",
        "plt.title(\"hour - ozone relation\")\n",
        "\n",
        "plt.xlabel(\"hour\")\n",
        "plt.ylabel(\"ozone\")\n",
        "\n",
        "plt.show()"
      ],
      "metadata": {
        "colab": {
          "base_uri": "https://localhost:8080/",
          "height": 298
        },
        "id": "0ibD0Au_eGi6",
        "outputId": "56b9fe52-54ca-49cf-ccae-7b1ebb3d855a"
      },
      "execution_count": 17,
      "outputs": [
        {
          "output_type": "display_data",
          "data": {
            "text/plain": [
              "<Figure size 432x288 with 1 Axes>"
            ],
            "image/png": "[encoded data removed]"
          },
          "metadata": {
            "needs_background": "light"
          }
        }
      ]
    },
    {
      "cell_type": "markdown",
      "source": [
        "오후 시간대에 오존량이 많아진다."
      ],
      "metadata": {
        "id": "M2VksjV0fS9Y"
      }
    },
    {
      "cell_type": "markdown",
      "source": [
        "**가설**\n",
        "\n",
        "\n",
        "> 따릉이 대여수와 가장 관련되어 있을 것 같은 피쳐는 시간별 따릉이 대여수 그래프와 유독 다른 형태의 시간별 그래프를 가진 피쳐들이다.\n",
        "\n",
        "\n",
        "\n",
        "> 그래서 강수, pm2.5, 습도에 대해 직접 count 수와 비교하고자 한다.\n",
        "\n",
        "\n"
      ],
      "metadata": {
        "id": "4LZr_u4agHyq"
      }
    },
    {
      "cell_type": "markdown",
      "source": [
        "[1] 따릉이 대여수 - 강수 관계 시각화"
      ],
      "metadata": {
        "id": "_l7gkyi2hHgt"
      }
    },
    {
      "cell_type": "code",
      "source": [
        "rain_cnt = []\n",
        "no_rain_cnt = []\n",
        "\n",
        "i = 0\n",
        "\n",
        "for r in train_c['hour_bef_precipitation'] :\n",
        "\n",
        "  cnt = train_c['count'][i]\n",
        "\n",
        "  if r == 1.0 :\n",
        "    rain_cnt.append(cnt)\n",
        "  else :\n",
        "    no_rain_cnt.append(cnt)\n",
        "\n",
        "  i = i+1\n",
        "\n",
        "y = [np.sum(rain_cnt), np.sum(no_rain_cnt)]\n",
        "x = ['rain', 'no rain']\n",
        "\n",
        "plt.bar(x, y)\n",
        "\n",
        "plt.title(\"precipitation - count relation\")\n",
        "\n",
        "plt.xlabel(\"precipitation\")\n",
        "plt.ylabel(\"count\")\n",
        "\n",
        "plt.show()\n",
        "\n",
        "print(y)\n"
      ],
      "metadata": {
        "colab": {
          "base_uri": "https://localhost:8080/",
          "height": 314
        },
        "id": "EfqLG2VuhLUH",
        "outputId": "31bb422a-0b59-43b0-cd0d-2be160cc8d60"
      },
      "execution_count": 18,
      "outputs": [
        {
          "output_type": "display_data",
          "data": {
            "text/plain": [
              "<Figure size 432x288 with 1 Axes>"
            ],
            "image/png": "[encoded data removed]"
          },
          "metadata": {
            "needs_background": "light"
          }
        },
        {
          "output_type": "stream",
          "name": "stdout",
          "text": [
            "[4982.0, 153412.0]\n"
          ]
        }
      ]
    },
    {
      "cell_type": "markdown",
      "source": [
        "정리 : 비가 오지 않은 때의 대여량이 압도적으로 많다."
      ],
      "metadata": {
        "id": "YyIzuJ36k7tN"
      }
    },
    {
      "cell_type": "markdown",
      "source": [
        "[2]따릉이 대여수 - pm2.5 관계 시각화"
      ],
      "metadata": {
        "id": "6fJJ6ryphHab"
      }
    },
    {
      "cell_type": "code",
      "source": [
        "pm25_quantile_25 = np.quantile(train_c['hour_bef_pm2.5'],0.25)\n",
        "pm25_quantile_50 = np.quantile(train_c['hour_bef_pm2.5'],0.50)\n",
        "pm25_quantile_75 = np.quantile(train_c['hour_bef_pm2.5'],0.75)\n",
        "\n",
        "level = []\n",
        "\n",
        "# D로 갈수록 pm2.5농도는 작아짐\n",
        "\n",
        "for p in train_c['hour_bef_pm2.5'] :\n",
        "  if p >= pm25_quantile_75 :\n",
        "    level.append('A')\n",
        "  elif p >= pm25_quantile_50 :\n",
        "    level.append('B')\n",
        "  elif p >= pm25_quantile_25 :\n",
        "    level.append('C')  \n",
        "  else:\n",
        "    level.append('D')\n",
        "\n",
        "train_c['level'] = level\n",
        "\n",
        "train_c.groupby(['level'])['count'].mean().plot(kind = 'bar', color = 'grey')\n",
        "\n",
        "plt.title(\"pm2.5 - count relation\")\n",
        "\n",
        "plt.xlabel(\"pm2.5 level\")\n",
        "plt.ylabel(\"count\")\n",
        "\n",
        "plt.ylim([80, 140])\n",
        "\n",
        "plt.show()\n"
      ],
      "metadata": {
        "colab": {
          "base_uri": "https://localhost:8080/",
          "height": 293
        },
        "id": "9hTRt5eFgHqL",
        "outputId": "bc545da9-11ec-40dc-b6b1-130f25517371"
      },
      "execution_count": 19,
      "outputs": [
        {
          "output_type": "display_data",
          "data": {
            "text/plain": [
              "<Figure size 432x288 with 1 Axes>"
            ],
            "image/png": "[encoded data removed]"
          },
          "metadata": {
            "needs_background": "light"
          }
        }
      ]
    },
    {
      "cell_type": "markdown",
      "source": [
        "[3]따릉이 대여수 - 습도 관계 시각화"
      ],
      "metadata": {
        "id": "a5EjxOrbhU9P"
      }
    },
    {
      "cell_type": "code",
      "source": [
        "# E로 갈수록 습도는 낮아짐\n",
        "\n",
        "hum = []\n",
        "\n",
        "for h in train_c['hour_bef_humidity'] :\n",
        "  if h >= 80 :\n",
        "    hum.append('A')\n",
        "  elif h >= 60 :\n",
        "    hum.append('B')\n",
        "  elif h >= 40 :\n",
        "    hum.append('C')\n",
        "  elif h >= 20 :\n",
        "    hum.append('D')\n",
        "  else:\n",
        "    hum.append('E')\n",
        "\n",
        "train_c['hum'] = hum\n",
        "\n",
        "train_c.groupby(['hum'])['count'].mean().plot(kind = 'bar', color = 'dodgerblue')\n",
        "\n",
        "plt.title(\"humidity - count relation\")\n",
        "\n",
        "plt.xlabel(\"humidity level\")\n",
        "plt.ylabel(\"count\")\n",
        "\n",
        "plt.show()\n"
      ],
      "metadata": {
        "colab": {
          "base_uri": "https://localhost:8080/",
          "height": 293
        },
        "id": "TT23h2owMyGN",
        "outputId": "bebee4c7-2764-4c81-acd2-1fe0b8d3fae6"
      },
      "execution_count": 20,
      "outputs": [
        {
          "output_type": "display_data",
          "data": {
            "text/plain": [
              "<Figure size 432x288 with 1 Axes>"
            ],
            "image/png": "[encoded data removed]"
          },
          "metadata": {
            "needs_background": "light"
          }
        }
      ]
    },
    {
      "cell_type": "markdown",
      "source": [
        "정리\n",
        "\n",
        "\n",
        "> 습도가 낮을수록 따릉이 대여량이 높아진다.\n",
        "\n",
        "\n",
        "> 비가 오지 않으면 따릉이 대여량이 높아진다.\n",
        "\n",
        "\n",
        "> pm2.5농도가 낮으면 따릉이 대여량이 높아진다.\n",
        "\n",
        "\n",
        "\n",
        "\n",
        "\n"
      ],
      "metadata": {
        "id": "3uOVktNfn2_Y"
      }
    },
    {
      "cell_type": "markdown",
      "source": [
        "#전처리"
      ],
      "metadata": {
        "id": "3ad9eByDoR2B"
      }
    },
    {
      "cell_type": "markdown",
      "source": [
        "1. 결측치 보간"
      ],
      "metadata": {
        "id": "748p5-D6oe-r"
      }
    },
    {
      "cell_type": "code",
      "source": [
        "#시간(hour)을 기준으로 정렬\n",
        "train = train.sort_values(by=['hour'])\n",
        "train.head()\n",
        "\n",
        "#결측치 앞 뒤 값으로 보간\n",
        "train.isnull().sum()\n",
        "train.interpolate(inplace=True)\n",
        "train.isnull().sum()\n"
      ],
      "metadata": {
        "colab": {
          "base_uri": "https://localhost:8080/"
        },
        "id": "gJYkmfbvpUx-",
        "outputId": "ecd119ec-27b0-4923-a8b0-f417f0dcf03e"
      },
      "execution_count": 21,
      "outputs": [
        {
          "output_type": "execute_result",
          "data": {
            "text/plain": [
              "id                        0\n",
              "hour                      0\n",
              "hour_bef_temperature      0\n",
              "hour_bef_precipitation    0\n",
              "hour_bef_windspeed        0\n",
              "hour_bef_humidity         0\n",
              "hour_bef_visibility       0\n",
              "hour_bef_ozone            0\n",
              "hour_bef_pm10             0\n",
              "hour_bef_pm2.5            0\n",
              "count                     0\n",
              "dtype: int64"
            ]
          },
          "metadata": {},
          "execution_count": 21
        }
      ]
    },
    {
      "cell_type": "markdown",
      "source": [
        "2. 이상치 제거\n",
        "\n"
      ],
      "metadata": {
        "id": "9FhIDb5topVx"
      }
    },
    {
      "cell_type": "code",
      "source": [
        ""
      ],
      "metadata": {
        "id": "t_jMDBx3oo21"
      },
      "execution_count": 21,
      "outputs": []
    },
    {
      "cell_type": "markdown",
      "source": [
        "# 모델링"
      ],
      "metadata": {
        "id": "_jBHizqtp5e2"
      }
    },
    {
      "cell_type": "markdown",
      "source": [
        "# 튜닝"
      ],
      "metadata": {
        "id": "znGqwS8Op73C"
      }
    }
  ]
}